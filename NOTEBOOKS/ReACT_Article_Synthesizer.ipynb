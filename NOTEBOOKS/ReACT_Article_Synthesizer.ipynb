{
  "nbformat": 4,
  "nbformat_minor": 0,
  "metadata": {
    "colab": {
      "provenance": []
    },
    "kernelspec": {
      "name": "python3",
      "display_name": "Python 3"
    },
    "language_info": {
      "name": "python"
    }
  },
  "cells": [
    {
      "cell_type": "markdown",
      "source": [
        "## Finding the article names from metadata"
      ],
      "metadata": {
        "id": "Jogxgd_Ynp23"
      }
    },
    {
      "cell_type": "markdown",
      "source": [
        "#### Based on the presence of the words \"OSS\", \"Open Source\", \"Open-Source\" in the title and in the abstract of the articles"
      ],
      "metadata": {
        "id": "IhCTVyrXnamV"
      }
    },
    {
      "cell_type": "code",
      "execution_count": null,
      "metadata": {
        "colab": {
          "base_uri": "https://localhost:8080/"
        },
        "id": "qcDL4XDgnDnv",
        "outputId": "335340bb-3109-41cc-e3e4-86fa4ab027a9"
      },
      "outputs": [
        {
          "output_type": "stream",
          "name": "stdout",
          "text": [
            "Skipping file: icse_24.bib. Unable to read the file.\n",
            "0\n",
            "Skipping file: icse_23.bib. Unable to read the file.\n",
            "0\n",
            "Skipping file: icse_22.bib. Unable to read the file.\n",
            "0\n",
            "Skipping file: icse_21.bib. Unable to read the file.\n",
            "0\n",
            "Skipping file: icse_20.bib. Unable to read the file.\n",
            "0\n",
            "Skipping file: icse_19.bib. Unable to read the file.\n",
            "0\n",
            "Skipping file: icse_18.bib. Unable to read the file.\n",
            "0\n",
            "Skipping file: icse_17.bib. Unable to read the file.\n",
            "0\n",
            "Skipping file: icse_16.bib. Unable to read the file.\n",
            "0\n",
            "Skipping file: icse_15.bib. Unable to read the file.\n",
            "0\n",
            "Skipping file: icse_14.bib. Unable to read the file.\n",
            "0\n",
            "Skipping file: icse_13.bib. Unable to read the file.\n",
            "0\n",
            "Skipping file: icse_12.bib. Unable to read the file.\n",
            "0\n",
            "Skipping file: icse_11.bib. Unable to read the file.\n",
            "0\n",
            "Skipping file: icse_10.bib. Unable to read the file.\n",
            "0\n",
            "Skipping file: icse_09.bib. Unable to read the file.\n",
            "0\n",
            "Skipping file: icse_08.bib. Unable to read the file.\n",
            "0\n",
            "Skipping file: icse_07.bib. Unable to read the file.\n",
            "0\n",
            "Skipping file: icse_06.bib. Unable to read the file.\n",
            "0\n",
            "Skipping file: icse_05.bib. Unable to read the file.\n",
            "0\n",
            "Skipping file: icse_04.bib. Unable to read the file.\n",
            "0\n",
            "Skipping file: icse_03.bib. Unable to read the file.\n",
            "0\n",
            "Skipping file: icse_02.bib. Unable to read the file.\n",
            "0\n",
            "Skipping file: icse_01.bib. Unable to read the file.\n",
            "0\n",
            "Skipping file: icse_00.bib. Unable to read the file.\n",
            "0\n",
            "Skipping file: fse_24.bib. Unable to read the file.\n",
            "0\n",
            "Skipping file: fse_23.bib. Unable to read the file.\n",
            "0\n",
            "Skipping file: fse_22.bib. Unable to read the file.\n",
            "0\n",
            "Skipping file: fse_21.bib. Unable to read the file.\n",
            "0\n",
            "Skipping file: fse_20.bib. Unable to read the file.\n",
            "0\n",
            "Skipping file: fse_19.bib. Unable to read the file.\n",
            "0\n",
            "Skipping file: fse_18.bib. Unable to read the file.\n",
            "0\n",
            "Skipping file: fse_17.bib. Unable to read the file.\n",
            "0\n",
            "Skipping file: fse_16.bib. Unable to read the file.\n",
            "0\n",
            "Skipping file: fse_15.bib. Unable to read the file.\n",
            "0\n",
            "Skipping file: fse_14.bib. Unable to read the file.\n",
            "0\n",
            "Skipping file: fse_13.bib. Unable to read the file.\n",
            "0\n",
            "4\n",
            "10\n",
            "Skipping file: fse_10.bib. Unable to read the file.\n",
            "10\n",
            "13\n",
            "Skipping file: fse_08.bib. Unable to read the file.\n",
            "13\n",
            "13\n",
            "Skipping file: fse_06.bib. Unable to read the file.\n",
            "13\n",
            "Skipping file: fse_05.bib. Unable to read the file.\n",
            "13\n",
            "Skipping file: fse_04.bib. Unable to read the file.\n",
            "13\n",
            "Skipping file: fse_03.bib. Unable to read the file.\n",
            "13\n",
            "Skipping file: fse_02.bib. Unable to read the file.\n",
            "13\n",
            "Skipping file: fse_01.bib. Unable to read the file.\n",
            "13\n",
            "Skipping file: fse_00.bib. Unable to read the file.\n",
            "13\n"
          ]
        }
      ],
      "source": [
        "import re\n",
        "relevant_titles = []\n",
        "def extract_relevant_titles(bib_file, keywords, output_file):\n",
        "    try:\n",
        "        # print(bib_file)\n",
        "        with open(bib_file, 'r', encoding='utf-8') as file:\n",
        "            content = file.read()\n",
        "            # Regular expression to find each entry\n",
        "            entries = re.findall(r'@inproceedings{[^@]*}', content)\n",
        "            # print(entries)\n",
        "\n",
        "            global relevant_titles\n",
        "            local_relevant_titles = []\n",
        "\n",
        "            for entry in entries:\n",
        "                title_match = re.search(r'title\\s*=\\s*{([^}]*)}', entry, re.IGNORECASE)\n",
        "                abstract_match = re.search(r'abstract\\s*=\\s*{([^}]*)}', entry, re.IGNORECASE)\n",
        "\n",
        "                if title_match and abstract_match:\n",
        "                    title = title_match.group(1).lower()\n",
        "                    abstract = abstract_match.group(1).lower()\n",
        "\n",
        "                    # Check if any of the keywords are in the title or abstract\n",
        "                    if any(keyword in title or keyword in abstract for keyword in keywords):\n",
        "                        relevant_titles.append(title_match.group(1))\n",
        "                        local_relevant_titles.append(title_match.group(1))\n",
        "\n",
        "            # Write relevant titles to the output file\n",
        "            with open(output_file, 'a', encoding='utf-8') as file:\n",
        "                for title in local_relevant_titles:\n",
        "                    title = title.replace(\",\", \"\")\n",
        "                    bib_file = bib_file.replace(\".bib\", \"\")\n",
        "                    file.write(title + \",\"+ bib_file + '\\n')\n",
        "\n",
        "    except IOError:\n",
        "        print(f\"Skipping file: {bib_file}. Unable to read the file.\")\n",
        "        content = None\n",
        "\n",
        "\n",
        "# Example usage\n",
        "bib_file = ['icse_24.bib', 'icse_23.bib', 'icse_22.bib', 'icse_21.bib', 'icse_20.bib', 'icse_19.bib',\n",
        "            'icse_18.bib', 'icse_17.bib', 'icse_16.bib', 'icse_15.bib', 'icse_14.bib', 'icse_13.bib',\n",
        "            'icse_12.bib', 'icse_11.bib', 'icse_10.bib', 'icse_09.bib', 'icse_08.bib', 'icse_07.bib',\n",
        "            'icse_06.bib', 'icse_05.bib', 'icse_04.bib', 'icse_03.bib', 'icse_02.bib', 'icse_01.bib',\n",
        "            'icse_00.bib', 'fse_24.bib', 'fse_23.bib', 'fse_22.bib', 'fse_21.bib', 'fse_20.bib', 'fse_19.bib',\n",
        "            'fse_18.bib', 'fse_17.bib', 'fse_16.bib', 'fse_15.bib', 'fse_14.bib', 'fse_13.bib', 'fse_12.bib',\n",
        "            'fse_11.bib', 'fse_10.bib', 'fse_09.bib', 'fse_08.bib', 'fse_07.bib', 'fse_06.bib', 'fse_05.bib',\n",
        "            'fse_04.bib', 'fse_03.bib', 'fse_02.bib', 'fse_01.bib', 'fse_00.bib']\n",
        "\n",
        "keywords = [\"Open Source\", \"OSS\", \"Open-Source\", \"open source\", \"open-source\"]\n",
        "output_file = 'extracted_articles5.csv'\n",
        "\n",
        "for i in range(0, len(bib_file)):\n",
        "  old_len = len(relevant_titles)\n",
        "  extract_relevant_titles(bib_file[i], keywords, output_file)\n",
        "  print(len(relevant_titles))\n",
        "  # print(len(relevant_titles) - old_len)\n",
        "  # print(\"Total articles:\", len(relevant_titles))"
      ]
    },
    {
      "cell_type": "markdown",
      "source": [
        "#### Based on the presence of the words \"OSS\", \"Open Source\", \"Open-Source\" in ONLY in the title"
      ],
      "metadata": {
        "id": "WmMJNBEcncfq"
      }
    },
    {
      "cell_type": "code",
      "source": [
        "import re\n",
        "\n",
        "def extract_relevant_titles(input_file, output_file):\n",
        "    try:\n",
        "      with open(input_file, 'r') as file:\n",
        "          bib_content = file.read()\n",
        "\n",
        "                # Extract all title tags using regular expressions\n",
        "          titles = re.findall(r'@.*?\\n.*?title\\s*=\\s*{(.*?)}', bib_content, re.DOTALL)\n",
        "          # print(titles)\n",
        "\n",
        "          filtered_titles = []\n",
        "          for title in titles:\n",
        "              if any(keyword in title for keyword in [\"Open Source\", \"OSS\", \"Open-Source\", \"open source\", \"open-source\"]):\n",
        "                  filtered_titles.append(title)\n",
        "\n",
        "          with open(output_file, 'w') as file:\n",
        "              for title in filtered_titles:\n",
        "                  file.write(f'title = {{{title}}}\\n')\n",
        "\n",
        "          # Count the number of lines in the processed text\n",
        "          line_count = len(filtered_titles)\n",
        "          # print(f\"Number of lines in the processed text: {line_count}\")\n",
        "          print(line_count)\n",
        "\n",
        "    except IOError:\n",
        "      print(f\"Skipping file: {input_file}. Unable to read the file.\")\n",
        "      content = None\n",
        "\n",
        "\n",
        "\n",
        "bib_file = ['icse_24.bib', 'icse_23.bib', 'icse_22.bib', 'icse_21.bib', 'icse_20.bib', 'icse_19.bib',\n",
        "            'icse_18.bib', 'icse_17.bib', 'icse_16.bib', 'icse_15.bib', 'icse_14.bib', 'icse_13.bib',\n",
        "            'icse_12.bib', 'icse_11.bib', 'icse_10.bib', 'icse_09.bib', 'icse_08.bib', 'icse_07.bib',\n",
        "            'icse_06.bib', 'icse_05.bib', 'icse_04.bib', 'icse_03.bib', 'icse_02.bib', 'icse_01.bib',\n",
        "            'icse_00.bib', 'fse_24.bib', 'fse_23.bib', 'fse_22.bib', 'fse_21.bib', 'fse_20.bib', 'fse_19.bib',\n",
        "            'fse_18.bib', 'fse_17.bib', 'fse_16.bib', 'fse_15.bib', 'fse_14.bib', 'fse_13.bib', 'fse_12.bib',\n",
        "            'fse_11.bib', 'fse_10.bib', 'fse_09.bib', 'fse_08.bib', 'fse_07.bib', 'fse_06.bib', 'fse_05.bib',\n",
        "            'fse_04.bib', 'fse_03.bib', 'fse_02.bib', 'fse_01.bib', 'fse_00.bib']\n",
        "\n",
        "\n",
        "for i in range(0, len(bib_file)):\n",
        "  old_len = len(relevant_titles)\n",
        "  extract_relevant_titles(bib_file[i], output_file='abc.txt')\n",
        "  # print(len(relevant_titles) - old_len)\n",
        "  # print(\"Total articles:\", len(relevant_titles))\n",
        "\n"
      ],
      "metadata": {
        "id": "0UCn5VvTngec"
      },
      "execution_count": null,
      "outputs": []
    },
    {
      "cell_type": "markdown",
      "source": [
        "## Renaming the downloaded articles"
      ],
      "metadata": {
        "id": "ZZvE0ZvyqEzK"
      }
    },
    {
      "cell_type": "markdown",
      "source": [
        "#### Need to keep it the following script running in the background"
      ],
      "metadata": {
        "id": "s9B_ooVgqSRS"
      }
    },
    {
      "cell_type": "code",
      "source": [
        "import os\n",
        "import time\n",
        "from watchdog.observers import Observer\n",
        "from watchdog.events import FileSystemEventHandler\n",
        "\n",
        "class PDFHandler(FileSystemEventHandler):\n",
        "    def __init__(self, directory):\n",
        "        self.directory = directory\n",
        "        self.counter = self.get_initial_counter()\n",
        "\n",
        "    def get_initial_counter(self):\n",
        "        \"\"\"Get the initial counter based on existing files.\"\"\"\n",
        "        existing_files = [f for f in os.listdir(self.directory) if f.endswith('.pdf')]\n",
        "        numbers = [int(os.path.splitext(f)[0]) for f in existing_files if f[:-4].isdigit()]\n",
        "        return max(numbers, default=0)\n",
        "\n",
        "    def on_created(self, event):\n",
        "        if not event.is_directory and event.src_path.endswith('.pdf'):\n",
        "            self.counter += 1\n",
        "            new_name = os.path.join(self.directory, f\"{self.counter}.pdf\")\n",
        "            os.rename(event.src_path, new_name)\n",
        "            print(f\"Renamed {event.src_path} to {new_name}\")\n",
        "\n",
        "def main():\n",
        "    # Set the folder to watch as the current directory\n",
        "    folder_to_watch = os.path.dirname(os.path.abspath(__file__))\n",
        "    print(f\"Watching directory: {folder_to_watch}\")\n",
        "\n",
        "    event_handler = PDFHandler(folder_to_watch)\n",
        "    observer = Observer()\n",
        "    observer.schedule(event_handler, folder_to_watch, recursive=False)\n",
        "    observer.start()\n",
        "\n",
        "    try:\n",
        "        while True:\n",
        "            time.sleep(1)\n",
        "    except KeyboardInterrupt:\n",
        "        observer.stop()\n",
        "\n",
        "    observer.join()\n",
        "\n",
        "if __name__ == \"__main__\":\n",
        "    main()"
      ],
      "metadata": {
        "id": "dWSlx-KkqQXx"
      },
      "execution_count": null,
      "outputs": []
    }
  ]
}